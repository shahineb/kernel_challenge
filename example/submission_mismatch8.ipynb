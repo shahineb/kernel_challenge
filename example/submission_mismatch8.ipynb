{
 "cells": [
  {
   "cell_type": "markdown",
   "metadata": {},
   "source": [
    "# Submission - Mismatch8\n",
    "\n",
    "Mismatch kernel - n=8 - k=1 - Kernel2SVM - lbda = 10-4, 10-4, 10-5"
   ]
  },
  {
   "cell_type": "code",
   "execution_count": 1,
   "metadata": {
    "collapsed": false
   },
   "outputs": [],
   "source": [
    "import os\n",
    "import sys\n",
    "import numpy as np\n",
    "import matplotlib.pyplot as plt\n",
    "\n",
    "path = !pwd\n",
    "\n",
    "base_dir = os.path.join(path[0], \"../..\")\n",
    "sys.path.append(base_dir)\n",
    "\n",
    "from utils.IOHandler import save_pickle, load_pickle\n",
    "\n",
    "%matplotlib inline  "
   ]
  },
  {
   "cell_type": "markdown",
   "metadata": {},
   "source": [
    "### Import data:"
   ]
  },
  {
   "cell_type": "code",
   "execution_count": 2,
   "metadata": {
    "collapsed": true
   },
   "outputs": [],
   "source": [
    "from utils.DataLoader import DataLoader\n",
    "\n",
    "loader = DataLoader()\n",
    "Xtr0, _, Ytr0, _ = loader.get_train_val(k=0, val_size=0.0, random_state=42)\n",
    "Xtr1, _, Ytr1, _ = loader.get_train_val(k=1, val_size=0.0, random_state=42)\n",
    "Xtr2, _, Ytr2, _ = loader.get_train_val(k=2, val_size=0.0, random_state=42)"
   ]
  },
  {
   "cell_type": "markdown",
   "metadata": {},
   "source": [
    "### Compute kernel:"
   ]
  },
  {
   "cell_type": "code",
   "execution_count": 3,
   "metadata": {
    "collapsed": false
   },
   "outputs": [],
   "source": [
    "from src.kernels.MismatchKernel import MismatchKernel\n",
    "\n",
    "#mismatch_kernel = MismatchKernel(n=8, k=1, charset=\"ATCG\", verbose=0)\n",
    "#save_pickle(\"mismatch_kernel_n7\", mismatch_kernel)\n",
    "\n",
    "mismatch_kernel = load_pickle(\"mismatch_kernel_n8\")\n",
    "\n",
    "#gram_tr_tr_0 = mismatch_kernel(Xtr0, Xtr0)\n",
    "#gram_tr_tr_1 = mismatch_kernel(Xtr1, Xtr1)\n",
    "#gram_tr_tr_2 = mismatch_kernel(Xtr2, Xtr2)\n"
   ]
  },
  {
   "cell_type": "code",
   "execution_count": 4,
   "metadata": {
    "collapsed": false
   },
   "outputs": [],
   "source": [
    "#np.save('gram_tr_tr_0_cross_val', gram_tr_tr_0)\n",
    "#np.save('gram_tr_tr_1_cross_val', gram_tr_tr_1)\n",
    "#np.save('gram_tr_tr_2_cross_val', gram_tr_tr_2)\n",
    "gram_tr_tr_0 = np.load('gram_tr_tr_0_cross_val.npy')\n",
    "gram_tr_tr_1 = np.load('gram_tr_tr_1_cross_val.npy')\n",
    "gram_tr_tr_2 = np.load('gram_tr_tr_2_cross_val.npy')"
   ]
  },
  {
   "cell_type": "markdown",
   "metadata": {},
   "source": [
    "### Perform classification:"
   ]
  },
  {
   "cell_type": "markdown",
   "metadata": {},
   "source": [
    "#### Kernel 2SVM:"
   ]
  },
  {
   "cell_type": "code",
   "execution_count": 5,
   "metadata": {
    "collapsed": false
   },
   "outputs": [],
   "source": [
    "from src.classifiers.Kernel2SVM import Kernel2SVM\n",
    "from src.evaluation.metrics import *"
   ]
  },
  {
   "cell_type": "markdown",
   "metadata": {},
   "source": [
    "#### Cross-validation:"
   ]
  },
  {
   "cell_type": "markdown",
   "metadata": {},
   "source": [
    "#### Dataset 0:"
   ]
  },
  {
   "cell_type": "code",
   "execution_count": 6,
   "metadata": {
    "collapsed": true
   },
   "outputs": [],
   "source": [
    "from src.evaluation.selection import cross_validate"
   ]
  },
  {
   "cell_type": "code",
   "execution_count": 7,
   "metadata": {
    "collapsed": false,
    "scrolled": true
   },
   "outputs": [
    {
     "name": "stdout",
     "output_type": "stream",
     "text": [
      "\n",
      "Lambda = 0.0001\n",
      "Mean accuracy = 0.609 - Std = 0.007516648189186478\n",
      "\n",
      "Lambda = 0.00017782794100389227\n",
      "Mean accuracy = 0.6140000000000001 - Std = 0.013285330255586422\n",
      "\n",
      "Lambda = 0.00031622776601683794\n",
      "Mean accuracy = 0.624 - Std = 0.020161845153655957\n",
      "\n",
      "Lambda = 0.0005623413251903491\n",
      "Mean accuracy = 0.6295 - Std = 0.012389511693363848\n",
      "\n",
      "Lambda = 0.001\n",
      "Mean accuracy = 0.626 - Std = 0.0037416573867739005\n",
      "\n",
      "Lambda = 0.0017782794100389228\n",
      "Mean accuracy = 0.6134999999999999 - Std = 0.013656500283747637\n",
      "\n",
      "Lambda = 0.0031622776601683794\n",
      "Mean accuracy = 0.626 - Std = 0.020099751242241757\n",
      "\n",
      "Lambda = 0.005623413251903491\n",
      "Mean accuracy = 0.609 - Std = 0.018881207588499215\n",
      "\n",
      "Lambda = 0.01\n",
      "Mean accuracy = 0.6165 - Std = 0.013928388277184081\n"
     ]
    }
   ],
   "source": [
    "list_lbdas = np.logspace(-4, -2, 9)\n",
    "for lbda in list_lbdas:\n",
    "    print(\"\\nLambda = {}\".format(lbda))\n",
    "    kernel_2svm = Kernel2SVM(lbda=lbda, support_vec_tol=1e-2, verbose=0)\n",
    "    _ = cross_validate(kernel_2svm, gram_tr_tr_0, Ytr0, cv=5, scoring=\"accuracy_score\")"
   ]
  },
  {
   "cell_type": "markdown",
   "metadata": {},
   "source": [
    "$\\lambda = 0.00031622776601683794$ - Accuracy: 0.627"
   ]
  },
  {
   "cell_type": "markdown",
   "metadata": {},
   "source": [
    "#### Dataset 1:"
   ]
  },
  {
   "cell_type": "code",
   "execution_count": 8,
   "metadata": {
    "collapsed": false,
    "scrolled": true
   },
   "outputs": [
    {
     "name": "stdout",
     "output_type": "stream",
     "text": [
      "\n",
      "Lambda = 1e-05\n",
      "Mean accuracy = 0.7474999999999999 - Std = 0.007745966692414834\n",
      "\n",
      "Lambda = 2.3713737056616554e-05\n",
      "Mean accuracy = 0.7384999999999999 - Std = 0.013190905958272891\n",
      "\n",
      "Lambda = 5.623413251903491e-05\n",
      "Mean accuracy = 0.7365 - Std = 0.009823441352194269\n",
      "\n",
      "Lambda = 0.0001333521432163324\n",
      "Mean accuracy = 0.7450000000000001 - Std = 0.02043281674170255\n",
      "\n",
      "Lambda = 0.00031622776601683794\n",
      "Mean accuracy = 0.7615000000000001 - Std = 0.021482551058940827\n",
      "\n",
      "Lambda = 0.0007498942093324559\n",
      "Mean accuracy = 0.7420000000000001 - Std = 0.011113055385446425\n",
      "\n",
      "Lambda = 0.0017782794100389228\n",
      "Mean accuracy = 0.7430000000000001 - Std = 0.021988633427296022\n",
      "\n",
      "Lambda = 0.004216965034285823\n",
      "Mean accuracy = 0.7304999999999999 - Std = 0.017986105748604948\n",
      "\n",
      "Lambda = 0.01\n",
      "Mean accuracy = 0.7275 - Std = 0.01949358868961795\n"
     ]
    }
   ],
   "source": [
    "list_lbdas = np.logspace(-5, -2, 9)\n",
    "for lbda in list_lbdas:\n",
    "    print(\"\\nLambda = {}\".format(lbda))\n",
    "    kernel_2svm = Kernel2SVM(lbda=lbda, support_vec_tol=1e-2, verbose=0)\n",
    "    _ = cross_validate(kernel_2svm, gram_tr_tr_1, Ytr1, cv=5, scoring=\"accuracy_score\")"
   ]
  },
  {
   "cell_type": "markdown",
   "metadata": {},
   "source": [
    "$\\lambda = 0.0007498942093324559$ - Accuracy: 0.7484999999999999"
   ]
  },
  {
   "cell_type": "markdown",
   "metadata": {},
   "source": [
    "#### Dataset 2:"
   ]
  },
  {
   "cell_type": "code",
   "execution_count": 9,
   "metadata": {
    "collapsed": false,
    "scrolled": true
   },
   "outputs": [
    {
     "name": "stdout",
     "output_type": "stream",
     "text": [
      "\n",
      "Lambda = 1e-06\n",
      "Mean accuracy = 0.6464999999999999 - Std = 0.021598611066455158\n",
      "\n",
      "Lambda = 2.3713737056616552e-06\n",
      "Mean accuracy = 0.654 - Std = 0.012103718436910195\n",
      "\n",
      "Lambda = 5.623413251903491e-06\n",
      "Mean accuracy = 0.6475000000000001 - Std = 0.022527760652137633\n",
      "\n",
      "Lambda = 1.333521432163324e-05\n",
      "Mean accuracy = 0.641 - Std = 0.024269322199023193\n",
      "\n",
      "Lambda = 3.1622776601683795e-05\n",
      "Mean accuracy = 0.6495000000000001 - Std = 0.008426149773176357\n",
      "\n",
      "Lambda = 7.498942093324559e-05\n",
      "Mean accuracy = 0.655 - Std = 0.013322912594474235\n",
      "\n",
      "Lambda = 0.00017782794100389227\n",
      "Mean accuracy = 0.6605000000000001 - Std = 0.023313086453749524\n",
      "\n",
      "Lambda = 0.00042169650342858224\n",
      "Mean accuracy = 0.657 - Std = 0.02135415650406264\n",
      "\n",
      "Lambda = 0.001\n",
      "Mean accuracy = 0.65 - Std = 0.00836660026534077\n"
     ]
    }
   ],
   "source": [
    "list_lbdas = np.logspace(-6, -3, 9)\n",
    "for lbda in list_lbdas:\n",
    "    print(\"\\nLambda = {}\".format(lbda))\n",
    "    kernel_2svm = Kernel2SVM(lbda=lbda, support_vec_tol=1e-2, verbose=0)\n",
    "    _ = cross_validate(kernel_2svm, gram_tr_tr_2, Ytr2, cv=5, scoring=\"accuracy_score\")"
   ]
  },
  {
   "cell_type": "markdown",
   "metadata": {},
   "source": [
    "$ \\lambda = 1.333521432163324e-05$ - Accuracy: 0.6535"
   ]
  },
  {
   "cell_type": "markdown",
   "metadata": {},
   "source": [
    "| Dataset | 1 | 2 | 3 |\n",
    "|---||---|---|---|\n",
    "|Accuracy| $0.627$ | $0.748$  | $0.653$  |\n",
    "|$\\lambda$| $3.16 10^{-4}$ | $4.50 10^{-4}$  | $1.33 10^{-4}$  |"
   ]
  },
  {
   "cell_type": "markdown",
   "metadata": {},
   "source": [
    "#### Training and prediction for submission:"
   ]
  },
  {
   "cell_type": "code",
   "execution_count": null,
   "metadata": {
    "collapsed": false
   },
   "outputs": [],
   "source": [
    "kernel = load_pickle(\"mismatch_kernel_n8\")\n",
    "dataloader = DataLoader()\n",
    "list_preds = []\n",
    "\n",
    "for k in range(3):\n",
    "    print(\"Loading dataset number {} and training the model...\".format(k))\n",
    "    model = Kernel2SVM(lbda=lbdas[k], support_vec_tol=1e-2, verbose=0)\n",
    "    x_train, _, y_train, _ = dataloader.get_train_val(k, 0., 42)\n",
    "    x_test = dataloader.get_test(k)\n",
    "    gram_train = kernel(x_train, x_train)\n",
    "    model.fit(gram_train, y_train)\n",
    "    print(\"Inference of the model...\".format(k))\n",
    "    gram_test = kernel(x_train, x_test)\n",
    "    y_pred_test = model.predict(gram_test)\n",
    "    y_pred_test[y_pred_test == -1] = 0\n",
    "    y_pred_test = y_pred_test.astype(int)\n",
    "    \n",
    "    list_preds += y_pred_test.tolist()\n",
    "\n",
    "    with open(\"submission_mismatch_8.csv\", 'w') as f:\n",
    "        f.write('Id,Bound\\n')\n",
    "        for i in range(len(list_preds)):\n",
    "            f.write(str(i)+','+str(list_preds[i])+'\\n')"
   ]
  },
  {
   "cell_type": "code",
   "execution_count": null,
   "metadata": {
    "collapsed": true
   },
   "outputs": [],
   "source": []
  }
 ],
 "metadata": {
  "kernelspec": {
   "display_name": "Python 3",
   "language": "python",
   "name": "python3"
  },
  "language_info": {
   "codemirror_mode": {
    "name": "ipython",
    "version": 3
   },
   "file_extension": ".py",
   "mimetype": "text/x-python",
   "name": "python",
   "nbconvert_exporter": "python",
   "pygments_lexer": "ipython3",
   "version": "3.5.4"
  }
 },
 "nbformat": 4,
 "nbformat_minor": 2
}
